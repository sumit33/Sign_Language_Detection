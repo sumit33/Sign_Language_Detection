{
  "nbformat": 4,
  "nbformat_minor": 0,
  "metadata": {
    "colab": {
      "name": " Sign Language Recognition.ipynb",
      "provenance": [],
      "collapsed_sections": [],
      "authorship_tag": "ABX9TyN+AAYCMFS0qIANeWzaPL8f",
      "include_colab_link": true
    },
    "kernelspec": {
      "name": "python3",
      "display_name": "Python 3"
    },
    "language_info": {
      "name": "python"
    }
  },
  "cells": [
    {
      "cell_type": "markdown",
      "metadata": {
        "id": "view-in-github",
        "colab_type": "text"
      },
      "source": [
        "<a href=\"https://colab.research.google.com/github/sumit33/Sign_Language_Detection/blob/main/Sign_Language_Recognition.ipynb\" target=\"_parent\"><img src=\"https://colab.research.google.com/assets/colab-badge.svg\" alt=\"Open In Colab\"/></a>"
      ]
    },
    {
      "cell_type": "code",
      "metadata": {
        "colab": {
          "base_uri": "https://localhost:8080/",
          "height": 35
        },
        "id": "hgw8Er4-_Ohb",
        "outputId": "86bc0ee6-718b-4d59-d63a-4710be65bf5a"
      },
      "source": [
        "import tensorflow as tf\n",
        "tf.test.gpu_device_name()"
      ],
      "execution_count": 13,
      "outputs": [
        {
          "output_type": "execute_result",
          "data": {
            "application/vnd.google.colaboratory.intrinsic+json": {
              "type": "string"
            },
            "text/plain": [
              "''"
            ]
          },
          "metadata": {
            "tags": []
          },
          "execution_count": 13
        }
      ]
    },
    {
      "cell_type": "code",
      "metadata": {
        "colab": {
          "base_uri": "https://localhost:8080/"
        },
        "id": "uVl1oQgSBtMM",
        "outputId": "650d78f8-6364-40ab-f1f0-acdbc8d9e336"
      },
      "source": [
        "from google.colab import drive\n",
        "drive.mount('/content/gdrive')"
      ],
      "execution_count": 14,
      "outputs": [
        {
          "output_type": "stream",
          "text": [
            "Drive already mounted at /content/gdrive; to attempt to forcibly remount, call drive.mount(\"/content/gdrive\", force_remount=True).\n"
          ],
          "name": "stdout"
        }
      ]
    },
    {
      "cell_type": "code",
      "metadata": {
        "id": "tnOIa8cMCCIj"
      },
      "source": [
        "import pandas as pd\n",
        "import numpy as np\n",
        "import random\n",
        "import matplotlib.pyplot as plt"
      ],
      "execution_count": 15,
      "outputs": []
    },
    {
      "cell_type": "code",
      "metadata": {
        "id": "vc8Mvw0_COFh"
      },
      "source": [
        "train = pd.read_csv('gdrive/My Drive/Colab Notebooks/Dataset/sign_mnist_train.csv')\n",
        "test = pd.read_csv('gdrive/My Drive/Colab Notebooks/Dataset/sign_mnist_test.csv')"
      ],
      "execution_count": 16,
      "outputs": []
    },
    {
      "cell_type": "code",
      "metadata": {
        "colab": {
          "base_uri": "https://localhost:8080/"
        },
        "id": "ngIHJqoVDeQM",
        "outputId": "cecf3705-ba20-4d1d-ee91-858645b02072"
      },
      "source": [
        "print(train.shape)\n",
        "print(test.shape)"
      ],
      "execution_count": 17,
      "outputs": [
        {
          "output_type": "stream",
          "text": [
            "(27455, 785)\n",
            "(7172, 785)\n"
          ],
          "name": "stdout"
        }
      ]
    },
    {
      "cell_type": "code",
      "metadata": {
        "id": "6ss7_oiIEabx"
      },
      "source": [
        "train_set = np.array(train, dtype = 'float32')\n",
        "test_set = np.array(test, dtype='float32')"
      ],
      "execution_count": 18,
      "outputs": []
    },
    {
      "cell_type": "code",
      "metadata": {
        "id": "ZMPvm2OzEeDh"
      },
      "source": [
        "class_names = ['A', 'B', 'C', 'D', 'E', 'F', 'G', 'H', 'I', 'J', 'K', 'L', 'M', 'N', 'O', 'P', 'Q', 'R', 'S', 'T', 'U', 'V', 'W', 'X', 'Y' ]"
      ],
      "execution_count": 19,
      "outputs": []
    },
    {
      "cell_type": "code",
      "metadata": {
        "colab": {
          "base_uri": "https://localhost:8080/",
          "height": 281
        },
        "id": "H-zMmOwtEqgy",
        "outputId": "69928e01-d26a-40e5-9141-f1e0f92f32eb"
      },
      "source": [
        "i = random.randint(1,27455)\n",
        "plt.imshow(train_set[i,1:].reshape((28,28))) \n",
        "plt.imshow(train_set[i,1:].reshape((28,28))) \n",
        "label_index = train[\"label\"][i]\n",
        "plt.title(f\"{class_names[label_index]}\")\n",
        "plt.axis('off')"
      ],
      "execution_count": 20,
      "outputs": [
        {
          "output_type": "execute_result",
          "data": {
            "text/plain": [
              "(-0.5, 27.5, 27.5, -0.5)"
            ]
          },
          "metadata": {
            "tags": []
          },
          "execution_count": 20
        },
        {
          "output_type": "display_data",
          "data": {
            "image/png": "[encoded data removed]",
            "text/plain": [
              "<Figure size 432x288 with 1 Axes>"
            ]
          },
          "metadata": {
            "tags": [],
            "needs_background": "light"
          }
        }
      ]
    },
    {
      "cell_type": "code",
      "metadata": {
        "id": "wLu5FP5fEtYJ"
      },
      "source": [
        "# Prepare the training and testing dataset \n",
        "from keras.utils import np_utils\n",
        "\n",
        "# normalizing the data to help with the training\n",
        "X_train = train_set[:, 1:] / 255\n",
        "y_train = train_set[:, 0]\n",
        "\n",
        "X_test = test_set[:, 1:] / 255\n",
        "y_test = test_set[:,0]\n",
        "\n",
        "# one-hot encoding using keras' numpy-related utilities\n",
        "n_classes = 25\n",
        "\n",
        "y_train = np_utils.to_categorical(y_train, n_classes)\n",
        "#y_validate = np_utils.to_categorical(y_validate, n_classes)"
      ],
      "execution_count": 22,
      "outputs": []
    },
    {
      "cell_type": "code",
      "metadata": {
        "colab": {
          "base_uri": "https://localhost:8080/"
        },
        "id": "0jTQZWNJEwQq",
        "outputId": "4c769dda-0f26-4fac-e562-6e21d2148059"
      },
      "source": [
        "X_train.shape, y_train.shape "
      ],
      "execution_count": 23,
      "outputs": [
        {
          "output_type": "execute_result",
          "data": {
            "text/plain": [
              "((27455, 784), (27455, 25))"
            ]
          },
          "metadata": {
            "tags": []
          },
          "execution_count": 23
        }
      ]
    },
    {
      "cell_type": "code",
      "metadata": {
        "colab": {
          "base_uri": "https://localhost:8080/"
        },
        "id": "_yIn_InyEzJx",
        "outputId": "9a310eac-39b4-47a0-8e9b-a7b624249f0d"
      },
      "source": [
        "X_test.shape, y_test.shape "
      ],
      "execution_count": 24,
      "outputs": [
        {
          "output_type": "execute_result",
          "data": {
            "text/plain": [
              "((7172, 784), (7172,))"
            ]
          },
          "metadata": {
            "tags": []
          },
          "execution_count": 24
        }
      ]
    },
    {
      "cell_type": "code",
      "metadata": {
        "colab": {
          "base_uri": "https://localhost:8080/",
          "height": 35
        },
        "id": "UoMjR69fE5_i",
        "outputId": "ba1e3d68-771f-45f1-d229-cea6500c62f8"
      },
      "source": [
        "class_names[0]"
      ],
      "execution_count": 25,
      "outputs": [
        {
          "output_type": "execute_result",
          "data": {
            "application/vnd.google.colaboratory.intrinsic+json": {
              "type": "string"
            },
            "text/plain": [
              "'A'"
            ]
          },
          "metadata": {
            "tags": []
          },
          "execution_count": 25
        }
      ]
    },
    {
      "cell_type": "code",
      "metadata": {
        "colab": {
          "base_uri": "https://localhost:8080/",
          "height": 1000
        },
        "id": "-9Ctf2h4E87i",
        "outputId": "b1ea0ead-db29-45d7-82ff-a291a34df20c"
      },
      "source": [
        "#Visualize train images\n",
        "plt.figure(figsize=(10, 10))\n",
        "for i in range(25):\n",
        "    plt.subplot(5, 5, i + 1)\n",
        "    plt.xticks([])\n",
        "    plt.yticks([])\n",
        "    plt.grid(False)\n",
        "    plt.imshow(X_train[i].reshape((28,28)), cmap=plt.cm.binary)\n",
        "    \n",
        "    for j in range(len(y_train[i])):\n",
        "      \n",
        "      if(y_train[i,j]==1):\n",
        "        label_index = j\n",
        "        break;\n",
        "    \n",
        "    print(label_index)\n",
        "    plt.title(class_names[label_index])\n",
        "plt.show()"
      ],
      "execution_count": 26,
      "outputs": [
        {
          "output_type": "stream",
          "text": [
            "3\n",
            "6\n",
            "2\n",
            "2\n",
            "13\n",
            "16\n",
            "8\n",
            "22\n",
            "3\n",
            "3\n",
            "18\n",
            "10\n",
            "16\n",
            "22\n",
            "20\n",
            "16\n",
            "17\n",
            "13\n",
            "13\n",
            "19\n",
            "18\n",
            "21\n",
            "16\n",
            "23\n",
            "3\n"
          ],
          "name": "stdout"
        },
        {
          "output_type": "display_data",
          "data": {
            "image/png": "[encoded data removed]",
            "text/plain": [
              "<Figure size 720x720 with 25 Axes>"
            ]
          },
          "metadata": {
            "tags": []
          }
        }
      ]
    },
    {
      "cell_type": "code",
      "metadata": {
        "id": "9u-0cv_nFGRC"
      },
      "source": [
        "#Split the training and test sets\n",
        "from sklearn.model_selection import train_test_split\n",
        "X_train, X_validate, y_train, y_validate = train_test_split(X_train, y_train, test_size = 0.2, random_state = 12345)"
      ],
      "execution_count": 27,
      "outputs": []
    },
    {
      "cell_type": "code",
      "metadata": {
        "colab": {
          "base_uri": "https://localhost:8080/"
        },
        "id": "XmcIPIEiFJrr",
        "outputId": "6c3f7f35-4e49-4cdf-ceb6-4f5b8c0c34e7"
      },
      "source": [
        "print(X_train.shape)\n",
        "print(y_train.shape)"
      ],
      "execution_count": 28,
      "outputs": [
        {
          "output_type": "stream",
          "text": [
            "(21964, 784)\n",
            "(21964, 25)\n"
          ],
          "name": "stdout"
        }
      ]
    },
    {
      "cell_type": "code",
      "metadata": {
        "colab": {
          "base_uri": "https://localhost:8080/"
        },
        "id": "UhJ4o-4fFMWJ",
        "outputId": "2895a12a-6082-4e09-9590-ef2567aa8eb6"
      },
      "source": [
        "X_train = X_train.reshape(X_train.shape[0], *(28, 28, 1))\n",
        "X_test = X_test.reshape(X_test.shape[0], *(28, 28, 1))\n",
        "X_validate = X_validate.reshape(X_validate.shape[0], *(28, 28, 1))\n",
        "\n",
        "print(X_train.shape)\n",
        "print(y_train.shape)\n",
        "print(X_validate.shape)"
      ],
      "execution_count": 29,
      "outputs": [
        {
          "output_type": "stream",
          "text": [
            "(21964, 28, 28, 1)\n",
            "(21964, 25)\n",
            "(5491, 28, 28, 1)\n"
          ],
          "name": "stdout"
        }
      ]
    },
    {
      "cell_type": "code",
      "metadata": {
        "id": "J-YG_L2EFOvL"
      },
      "source": [
        "from keras.models import Sequential\n",
        "from keras.layers import Dense, Dropout, Conv2D, MaxPool2D, Flatten\n",
        "\n",
        "def get_model():\n",
        "  # building a linear stack of layers with the sequential model\n",
        "  model = Sequential()\n",
        "\n",
        "  # convolutional layer\n",
        "  model.add(Conv2D(50, kernel_size=(3,3), strides=(1,1), padding='same', activation='relu', input_shape=(28, 28,1)))\n",
        "\n",
        "  # convolutional layer\n",
        "  model.add(Conv2D(75, kernel_size=(3,3), strides=(1,1), padding='same', activation='relu'))\n",
        "  model.add(MaxPool2D(pool_size=(2,2)))\n",
        "  model.add(Dropout(0.25))\n",
        "\n",
        "  model.add(Conv2D(125, kernel_size=(3,3), strides=(1,1), padding='same', activation='relu'))\n",
        "  model.add(MaxPool2D(pool_size=(2,2)))\n",
        "  model.add(Dropout(0.25))\n",
        "\n",
        "  # flatten output of conv\n",
        "  model.add(Flatten())\n",
        "\n",
        "  # hidden layer\n",
        "  model.add(Dense(500, activation='relu'))\n",
        "  model.add(Dropout(0.4))\n",
        "  model.add(Dense(250, activation='relu'))\n",
        "  model.add(Dropout(0.3))\n",
        "  # output layer\n",
        "  model.add(Dense(25, activation='softmax'))\n",
        "\n",
        "  # compiling the sequential model\n",
        "  model.compile(loss='categorical_crossentropy', metrics=['accuracy'], optimizer='adam')\n",
        "  return model"
      ],
      "execution_count": 30,
      "outputs": []
    },
    {
      "cell_type": "code",
      "metadata": {
        "colab": {
          "base_uri": "https://localhost:8080/"
        },
        "id": "IAMX-mm7FRyK",
        "outputId": "b67f62ae-3a2b-4b3d-dfae-557f129860ca"
      },
      "source": [
        "model = get_model()\n",
        "model.fit(X_train, y_train, batch_size=512, epochs=50, validation_data=(X_validate, y_validate))"
      ],
      "execution_count": 31,
      "outputs": [
        {
          "output_type": "stream",
          "text": [
            "Epoch 1/50\n",
            "43/43 [==============================] - 141s 3s/step - loss: 3.1243 - accuracy: 0.0677 - val_loss: 1.6255 - val_accuracy: 0.5323\n",
            "Epoch 2/50\n",
            "43/43 [==============================] - 125s 3s/step - loss: 1.4718 - accuracy: 0.5236 - val_loss: 0.3831 - val_accuracy: 0.8885\n",
            "Epoch 3/50\n",
            "43/43 [==============================] - 126s 3s/step - loss: 0.5122 - accuracy: 0.8229 - val_loss: 0.0746 - val_accuracy: 0.9840\n",
            "Epoch 4/50\n",
            "43/43 [==============================] - 126s 3s/step - loss: 0.2116 - accuracy: 0.9279 - val_loss: 0.0149 - val_accuracy: 0.9989\n",
            "Epoch 5/50\n",
            "43/43 [==============================] - 126s 3s/step - loss: 0.0951 - accuracy: 0.9692 - val_loss: 0.0033 - val_accuracy: 1.0000\n",
            "Epoch 6/50\n",
            "43/43 [==============================] - 126s 3s/step - loss: 0.0565 - accuracy: 0.9821 - val_loss: 0.0015 - val_accuracy: 1.0000\n",
            "Epoch 7/50\n",
            "43/43 [==============================] - 128s 3s/step - loss: 0.0376 - accuracy: 0.9877 - val_loss: 6.4479e-04 - val_accuracy: 1.0000\n",
            "Epoch 8/50\n",
            "43/43 [==============================] - 127s 3s/step - loss: 0.0330 - accuracy: 0.9894 - val_loss: 3.1558e-04 - val_accuracy: 1.0000\n",
            "Epoch 9/50\n",
            "43/43 [==============================] - 128s 3s/step - loss: 0.0247 - accuracy: 0.9922 - val_loss: 1.6546e-04 - val_accuracy: 1.0000\n",
            "Epoch 10/50\n",
            "43/43 [==============================] - 129s 3s/step - loss: 0.0182 - accuracy: 0.9945 - val_loss: 1.9414e-04 - val_accuracy: 1.0000\n",
            "Epoch 11/50\n",
            "43/43 [==============================] - 127s 3s/step - loss: 0.0162 - accuracy: 0.9947 - val_loss: 2.0679e-04 - val_accuracy: 1.0000\n",
            "Epoch 12/50\n",
            "43/43 [==============================] - 127s 3s/step - loss: 0.0134 - accuracy: 0.9960 - val_loss: 7.2393e-05 - val_accuracy: 1.0000\n",
            "Epoch 13/50\n",
            "43/43 [==============================] - 127s 3s/step - loss: 0.0140 - accuracy: 0.9954 - val_loss: 4.9279e-05 - val_accuracy: 1.0000\n",
            "Epoch 14/50\n",
            "43/43 [==============================] - 127s 3s/step - loss: 0.0110 - accuracy: 0.9973 - val_loss: 2.7117e-05 - val_accuracy: 1.0000\n",
            "Epoch 15/50\n",
            "43/43 [==============================] - 127s 3s/step - loss: 0.0111 - accuracy: 0.9961 - val_loss: 3.6189e-05 - val_accuracy: 1.0000\n",
            "Epoch 16/50\n",
            "43/43 [==============================] - 127s 3s/step - loss: 0.0111 - accuracy: 0.9970 - val_loss: 1.4267e-05 - val_accuracy: 1.0000\n",
            "Epoch 17/50\n",
            "43/43 [==============================] - 126s 3s/step - loss: 0.0080 - accuracy: 0.9974 - val_loss: 2.0692e-05 - val_accuracy: 1.0000\n",
            "Epoch 18/50\n",
            "43/43 [==============================] - 126s 3s/step - loss: 0.0084 - accuracy: 0.9975 - val_loss: 1.6195e-05 - val_accuracy: 1.0000\n",
            "Epoch 19/50\n",
            "43/43 [==============================] - 126s 3s/step - loss: 0.0074 - accuracy: 0.9979 - val_loss: 1.6385e-05 - val_accuracy: 1.0000\n",
            "Epoch 20/50\n",
            "43/43 [==============================] - 126s 3s/step - loss: 0.0076 - accuracy: 0.9976 - val_loss: 1.1165e-05 - val_accuracy: 1.0000\n",
            "Epoch 21/50\n",
            "43/43 [==============================] - 126s 3s/step - loss: 0.0075 - accuracy: 0.9978 - val_loss: 4.6254e-06 - val_accuracy: 1.0000\n",
            "Epoch 22/50\n",
            "43/43 [==============================] - 127s 3s/step - loss: 0.0075 - accuracy: 0.9979 - val_loss: 9.0466e-06 - val_accuracy: 1.0000\n",
            "Epoch 23/50\n",
            "43/43 [==============================] - 126s 3s/step - loss: 0.0056 - accuracy: 0.9982 - val_loss: 1.9686e-05 - val_accuracy: 1.0000\n",
            "Epoch 24/50\n",
            "43/43 [==============================] - 126s 3s/step - loss: 0.0072 - accuracy: 0.9975 - val_loss: 4.1345e-06 - val_accuracy: 1.0000\n",
            "Epoch 25/50\n",
            "43/43 [==============================] - 125s 3s/step - loss: 0.0066 - accuracy: 0.9974 - val_loss: 4.5862e-06 - val_accuracy: 1.0000\n",
            "Epoch 26/50\n",
            "43/43 [==============================] - 125s 3s/step - loss: 0.0071 - accuracy: 0.9978 - val_loss: 5.8313e-06 - val_accuracy: 1.0000\n",
            "Epoch 27/50\n",
            "43/43 [==============================] - 126s 3s/step - loss: 0.0050 - accuracy: 0.9988 - val_loss: 2.6528e-06 - val_accuracy: 1.0000\n",
            "Epoch 28/50\n",
            "43/43 [==============================] - 125s 3s/step - loss: 0.0061 - accuracy: 0.9981 - val_loss: 3.4314e-05 - val_accuracy: 1.0000\n",
            "Epoch 29/50\n",
            "43/43 [==============================] - 125s 3s/step - loss: 0.0059 - accuracy: 0.9981 - val_loss: 5.5303e-06 - val_accuracy: 1.0000\n",
            "Epoch 30/50\n",
            "43/43 [==============================] - 126s 3s/step - loss: 0.0043 - accuracy: 0.9986 - val_loss: 1.8478e-06 - val_accuracy: 1.0000\n",
            "Epoch 31/50\n",
            "43/43 [==============================] - 126s 3s/step - loss: 0.0048 - accuracy: 0.9982 - val_loss: 2.8614e-06 - val_accuracy: 1.0000\n",
            "Epoch 32/50\n",
            "43/43 [==============================] - 126s 3s/step - loss: 0.0042 - accuracy: 0.9986 - val_loss: 4.3501e-06 - val_accuracy: 1.0000\n",
            "Epoch 33/50\n",
            "43/43 [==============================] - 126s 3s/step - loss: 0.0059 - accuracy: 0.9981 - val_loss: 3.0242e-06 - val_accuracy: 1.0000\n",
            "Epoch 34/50\n",
            "43/43 [==============================] - 125s 3s/step - loss: 0.0044 - accuracy: 0.9986 - val_loss: 8.4232e-07 - val_accuracy: 1.0000\n",
            "Epoch 35/50\n",
            "43/43 [==============================] - 125s 3s/step - loss: 0.0048 - accuracy: 0.9984 - val_loss: 4.2892e-06 - val_accuracy: 1.0000\n",
            "Epoch 36/50\n",
            "43/43 [==============================] - 125s 3s/step - loss: 0.0031 - accuracy: 0.9989 - val_loss: 1.7270e-06 - val_accuracy: 1.0000\n",
            "Epoch 37/50\n",
            "43/43 [==============================] - 125s 3s/step - loss: 0.0049 - accuracy: 0.9985 - val_loss: 2.1708e-06 - val_accuracy: 1.0000\n",
            "Epoch 38/50\n",
            "43/43 [==============================] - 126s 3s/step - loss: 0.0036 - accuracy: 0.9988 - val_loss: 2.5463e-06 - val_accuracy: 1.0000\n",
            "Epoch 39/50\n",
            "43/43 [==============================] - 125s 3s/step - loss: 0.0038 - accuracy: 0.9988 - val_loss: 9.8918e-07 - val_accuracy: 1.0000\n",
            "Epoch 40/50\n",
            "43/43 [==============================] - 125s 3s/step - loss: 0.0045 - accuracy: 0.9981 - val_loss: 1.9675e-06 - val_accuracy: 1.0000\n",
            "Epoch 41/50\n",
            "43/43 [==============================] - 126s 3s/step - loss: 0.0043 - accuracy: 0.9988 - val_loss: 6.4994e-06 - val_accuracy: 1.0000\n",
            "Epoch 42/50\n",
            "43/43 [==============================] - 125s 3s/step - loss: 0.0037 - accuracy: 0.9988 - val_loss: 1.0552e-06 - val_accuracy: 1.0000\n",
            "Epoch 43/50\n",
            "43/43 [==============================] - 126s 3s/step - loss: 0.0033 - accuracy: 0.9990 - val_loss: 4.7360e-06 - val_accuracy: 1.0000\n",
            "Epoch 44/50\n",
            "43/43 [==============================] - 125s 3s/step - loss: 0.0032 - accuracy: 0.9990 - val_loss: 4.3832e-07 - val_accuracy: 1.0000\n",
            "Epoch 45/50\n",
            "43/43 [==============================] - 125s 3s/step - loss: 0.0025 - accuracy: 0.9992 - val_loss: 7.2113e-07 - val_accuracy: 1.0000\n",
            "Epoch 46/50\n",
            "43/43 [==============================] - 125s 3s/step - loss: 0.0021 - accuracy: 0.9993 - val_loss: 3.9995e-07 - val_accuracy: 1.0000\n",
            "Epoch 47/50\n",
            "43/43 [==============================] - 125s 3s/step - loss: 0.0047 - accuracy: 0.9987 - val_loss: 8.9748e-07 - val_accuracy: 1.0000\n",
            "Epoch 48/50\n",
            "43/43 [==============================] - 125s 3s/step - loss: 0.0037 - accuracy: 0.9987 - val_loss: 8.8305e-07 - val_accuracy: 1.0000\n",
            "Epoch 49/50\n",
            "43/43 [==============================] - 125s 3s/step - loss: 0.0037 - accuracy: 0.9991 - val_loss: 8.8894e-07 - val_accuracy: 1.0000\n",
            "Epoch 50/50\n",
            "43/43 [==============================] - 125s 3s/step - loss: 0.0047 - accuracy: 0.9989 - val_loss: 3.1705e-06 - val_accuracy: 1.0000\n"
          ],
          "name": "stdout"
        },
        {
          "output_type": "execute_result",
          "data": {
            "text/plain": [
              "<keras.callbacks.History at 0x7f63f0f4f290>"
            ]
          },
          "metadata": {
            "tags": []
          },
          "execution_count": 31
        }
      ]
    },
    {
      "cell_type": "code",
      "metadata": {
        "id": "zJhUxaqFFVAL"
      },
      "source": [
        "n_classes = 25\n",
        "\n",
        "y_test = np_utils.to_categorical(y_test, n_classes)"
      ],
      "execution_count": 32,
      "outputs": []
    },
    {
      "cell_type": "code",
      "metadata": {
        "colab": {
          "base_uri": "https://localhost:8080/"
        },
        "id": "sPfVsmKnFYpR",
        "outputId": "15bbb6fb-110e-4e2c-84c2-d3dfa8d5f810"
      },
      "source": [
        "X_test.shape, y_test.shape"
      ],
      "execution_count": 33,
      "outputs": [
        {
          "output_type": "execute_result",
          "data": {
            "text/plain": [
              "((7172, 28, 28, 1), (7172, 25))"
            ]
          },
          "metadata": {
            "tags": []
          },
          "execution_count": 33
        }
      ]
    },
    {
      "cell_type": "code",
      "metadata": {
        "id": "XeKnyHj3Fc5B"
      },
      "source": [
        "eval = model.evaluate(X_test, y_test, verbose=0)"
      ],
      "execution_count": 34,
      "outputs": []
    },
    {
      "cell_type": "code",
      "metadata": {
        "id": "PtP_5u9oFiJZ"
      },
      "source": [
        "print('Test loss:', eval[0])\n",
        "print('Test accuracy:', eval[1])"
      ],
      "execution_count": null,
      "outputs": []
    },
    {
      "cell_type": "code",
      "metadata": {
        "colab": {
          "base_uri": "https://localhost:8080/"
        },
        "id": "jAIWjUEnFjPp",
        "outputId": "7b6061b8-9ba0-4cc7-f14b-1f4fa1532c80"
      },
      "source": [
        "predicted_classes = model.predict_classes(X_test)\n",
        "print(predicted_classes[0])\n",
        "print(y_test[0])"
      ],
      "execution_count": 35,
      "outputs": [
        {
          "output_type": "stream",
          "text": [
            "/usr/local/lib/python3.7/dist-packages/keras/engine/sequential.py:450: UserWarning: `model.predict_classes()` is deprecated and will be removed after 2021-01-01. Please use instead:* `np.argmax(model.predict(x), axis=-1)`,   if your model does multi-class classification   (e.g. if it uses a `softmax` last-layer activation).* `(model.predict(x) > 0.5).astype(\"int32\")`,   if your model does binary classification   (e.g. if it uses a `sigmoid` last-layer activation).\n",
            "  warnings.warn('`model.predict_classes()` is deprecated and '\n"
          ],
          "name": "stderr"
        },
        {
          "output_type": "stream",
          "text": [
            "6\n",
            "[0. 0. 0. 0. 0. 0. 1. 0. 0. 0. 0. 0. 0. 0. 0. 0. 0. 0. 0. 0. 0. 0. 0. 0.\n",
            " 0.]\n"
          ],
          "name": "stdout"
        }
      ]
    },
    {
      "cell_type": "code",
      "metadata": {
        "id": "kpefu60aFntB"
      },
      "source": [
        ""
      ],
      "execution_count": null,
      "outputs": []
    }
  ]
}